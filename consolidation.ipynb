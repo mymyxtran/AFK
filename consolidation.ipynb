{
 "metadata": {
  "language_info": {
   "codemirror_mode": {
    "name": "ipython",
    "version": 3
   },
   "file_extension": ".py",
   "mimetype": "text/x-python",
   "name": "python",
   "nbconvert_exporter": "python",
   "pygments_lexer": "ipython3",
   "version": "3.9.0-final"
  },
  "orig_nbformat": 2,
  "kernelspec": {
   "name": "python3",
   "display_name": "Python 3",
   "language": "python"
  }
 },
 "nbformat": 4,
 "nbformat_minor": 2,
 "cells": [
  {
   "cell_type": "code",
   "execution_count": 35,
   "metadata": {},
   "outputs": [],
   "source": [
    "import pandas as pd"
   ]
  },
  {
   "cell_type": "code",
   "execution_count": 36,
   "metadata": {},
   "outputs": [],
   "source": [
    "HnM = pd.read_csv(\"./data/HnM_Shirts_&_Blouses.csv\")\n",
    "Aritzia = pd.read_csv(\"./data/AritizaInfo_Blouses.csv\")"
   ]
  },
  {
   "cell_type": "code",
   "execution_count": 46,
   "metadata": {},
   "outputs": [
    {
     "output_type": "execute_result",
     "data": {
      "text/plain": [
       "'Oversized shirt in soft, cotton-blend denim. Collar, buttons at front, yoke at back with box pleat, and open chest pocket. Dropped shoulders and wide sleeves with button at cuffs.'"
      ]
     },
     "metadata": {},
     "execution_count": 46
    }
   ],
   "source": [
    "HnM.head()"
   ]
  },
  {
   "cell_type": "code",
   "execution_count": 38,
   "metadata": {},
   "outputs": [
    {
     "output_type": "execute_result",
     "data": {
      "text/plain": [
       "                                        image_source  \\\n",
       "0  https://aritzia.scene7.com/is/image/Aritzia/me...   \n",
       "1  https://aritzia.scene7.com/is/image/Aritzia/me...   \n",
       "2  https://aritzia.scene7.com/is/image/Aritzia/me...   \n",
       "3  https://aritzia.scene7.com/is/image/Aritzia/me...   \n",
       "4  https://aritzia.scene7.com/is/image/Aritzia/me...   \n",
       "\n",
       "       manufacturer_location  \\\n",
       "0  Origin: Fabric from Japan   \n",
       "1                        NaN   \n",
       "2                        NaN   \n",
       "3                        NaN   \n",
       "4  Origin: Fabric from Japan   \n",
       "\n",
       "                                            material  \\\n",
       "0                                Content: 100% cupro   \n",
       "1  Content: 100% polyester; Trim: 69% polyester, ...   \n",
       "2    Content: 50% recycled polyester, 50% polyester    \n",
       "3                            Content: 100% polyester   \n",
       "4                            Content: 100% polyester   \n",
       "\n",
       "                    short_description price  \\\n",
       "0            Cropped tie-front blouse  $138   \n",
       "1      Cropped chiffon prairie blouse  $128   \n",
       "2  Puff-sleeve smocked prairie blouse   $98   \n",
       "3            Relaxed-fit shirt jacket  $148   \n",
       "4               Satin button-up shirt  $138   \n",
       "\n",
       "                                 general_description                  size  \\\n",
       "0  Cropped tie-front blouse SAFFRON ORANGE\\nBLACK...  2XS\\nXS\\nS\\nM\\nL\\nXL   \n",
       "1  Cropped chiffon prairie blouse COFFEE BEAN\\nBL...  2XS\\nXS\\nS\\nM\\nL\\nXL   \n",
       "2  Puff-sleeve smocked prairie blouse SPARROW TAU...  2XS\\nXS\\nS\\nM\\nL\\nXL   \n",
       "3  Relaxed-fit shirt jacket BASALT GREY\\nLIGHT BI...      2XS\\nXS\\nS\\nM\\nL   \n",
       "4  Satin button-up shirt HEIRLOOM PINK\\nAVORIO\\nG...      2XS\\nXS\\nS\\nM\\nL   \n",
       "\n",
       "     brand  \n",
       "0  Aritzia  \n",
       "1  Aritzia  \n",
       "2  Aritzia  \n",
       "3  Aritzia  \n",
       "4  Aritzia  "
      ],
      "text/html": "<div>\n<style scoped>\n    .dataframe tbody tr th:only-of-type {\n        vertical-align: middle;\n    }\n\n    .dataframe tbody tr th {\n        vertical-align: top;\n    }\n\n    .dataframe thead th {\n        text-align: right;\n    }\n</style>\n<table border=\"1\" class=\"dataframe\">\n  <thead>\n    <tr style=\"text-align: right;\">\n      <th></th>\n      <th>image_source</th>\n      <th>manufacturer_location</th>\n      <th>material</th>\n      <th>short_description</th>\n      <th>price</th>\n      <th>general_description</th>\n      <th>size</th>\n      <th>brand</th>\n    </tr>\n  </thead>\n  <tbody>\n    <tr>\n      <th>0</th>\n      <td>https://aritzia.scene7.com/is/image/Aritzia/me...</td>\n      <td>Origin: Fabric from Japan</td>\n      <td>Content: 100% cupro</td>\n      <td>Cropped tie-front blouse</td>\n      <td>$138</td>\n      <td>Cropped tie-front blouse SAFFRON ORANGE\\nBLACK...</td>\n      <td>2XS\\nXS\\nS\\nM\\nL\\nXL</td>\n      <td>Aritzia</td>\n    </tr>\n    <tr>\n      <th>1</th>\n      <td>https://aritzia.scene7.com/is/image/Aritzia/me...</td>\n      <td>NaN</td>\n      <td>Content: 100% polyester; Trim: 69% polyester, ...</td>\n      <td>Cropped chiffon prairie blouse</td>\n      <td>$128</td>\n      <td>Cropped chiffon prairie blouse COFFEE BEAN\\nBL...</td>\n      <td>2XS\\nXS\\nS\\nM\\nL\\nXL</td>\n      <td>Aritzia</td>\n    </tr>\n    <tr>\n      <th>2</th>\n      <td>https://aritzia.scene7.com/is/image/Aritzia/me...</td>\n      <td>NaN</td>\n      <td>Content: 50% recycled polyester, 50% polyester</td>\n      <td>Puff-sleeve smocked prairie blouse</td>\n      <td>$98</td>\n      <td>Puff-sleeve smocked prairie blouse SPARROW TAU...</td>\n      <td>2XS\\nXS\\nS\\nM\\nL\\nXL</td>\n      <td>Aritzia</td>\n    </tr>\n    <tr>\n      <th>3</th>\n      <td>https://aritzia.scene7.com/is/image/Aritzia/me...</td>\n      <td>NaN</td>\n      <td>Content: 100% polyester</td>\n      <td>Relaxed-fit shirt jacket</td>\n      <td>$148</td>\n      <td>Relaxed-fit shirt jacket BASALT GREY\\nLIGHT BI...</td>\n      <td>2XS\\nXS\\nS\\nM\\nL</td>\n      <td>Aritzia</td>\n    </tr>\n    <tr>\n      <th>4</th>\n      <td>https://aritzia.scene7.com/is/image/Aritzia/me...</td>\n      <td>Origin: Fabric from Japan</td>\n      <td>Content: 100% polyester</td>\n      <td>Satin button-up shirt</td>\n      <td>$138</td>\n      <td>Satin button-up shirt HEIRLOOM PINK\\nAVORIO\\nG...</td>\n      <td>2XS\\nXS\\nS\\nM\\nL</td>\n      <td>Aritzia</td>\n    </tr>\n  </tbody>\n</table>\n</div>"
     },
     "metadata": {},
     "execution_count": 38
    }
   ],
   "source": [
    "Aritzia.head()"
   ]
  },
  {
   "cell_type": "code",
   "execution_count": 42,
   "metadata": {},
   "outputs": [
    {
     "output_type": "execute_result",
     "data": {
      "text/plain": [
       "   price                 short_description  \\\n",
       "10   $68             Satin ruffle camisole   \n",
       "11   $68          Satin cowl neck camisole   \n",
       "12   $68         Cropped, tie-front blouse   \n",
       "13   $78  Cropped, tie-front peplum blouse   \n",
       "14   $78         Scalloped collared blouse   \n",
       "\n",
       "                                         image_source  \\\n",
       "10  https://aritzia.scene7.com/is/image/Aritzia/me...   \n",
       "11  https://aritzia.scene7.com/is/image/Aritzia/me...   \n",
       "12  https://aritzia.scene7.com/is/image/Aritzia/me...   \n",
       "13  https://aritzia.scene7.com/is/image/Aritzia/me...   \n",
       "14  https://aritzia.scene7.com/is/image/Aritzia/me...   \n",
       "\n",
       "                                  general_description  \\\n",
       "10  Satin ruffle camisole HEIRLOOM PINK\\nBLACK\\nAV...   \n",
       "11  Satin cowl neck camisole BASALT GREY\\nBLACK\\nA...   \n",
       "12  Cropped, tie-front blouse SOFT BLUSH PINK\\nGIS...   \n",
       "13       Cropped, tie-front peplum blouse WHITE/MULTI   \n",
       "14  Scalloped collared blouse LIGHT BIRCH\\nOXFORD ...   \n",
       "\n",
       "                         size                                       material  \\\n",
       "10  3XS\\n2XS\\nXS\\nS\\nM\\nL\\nXL                            Content: 100% cupro   \n",
       "11       2XS\\nXS\\nS\\nM\\nL\\nXL                            Content: 100% cupro   \n",
       "12       2XS\\nXS\\nS\\nM\\nL\\nXL  Content: 100% viscose; Lining: 100% polyester   \n",
       "13       2XS\\nXS\\nS\\nM\\nL\\nXL                          Content: 100% viscose   \n",
       "14       2XS\\nXS\\nS\\nM\\nL\\nXL                          Content: 100% viscose   \n",
       "\n",
       "        manufacturer_location manufacturer_name manufacturer_address  \\\n",
       "10  Origin: Fabric from Japan               NaN                  NaN   \n",
       "11  Origin: Fabric from Japan               NaN                  NaN   \n",
       "12                        NaN               NaN                  NaN   \n",
       "13                        NaN               NaN                  NaN   \n",
       "14                        NaN               NaN                  NaN   \n",
       "\n",
       "   manufacturer_num_workers    brand  \n",
       "10                      NaN  Aritzia  \n",
       "11                      NaN  Aritzia  \n",
       "12                      NaN  Aritzia  \n",
       "13                      NaN  Aritzia  \n",
       "14                      NaN  Aritzia  "
      ],
      "text/html": "<div>\n<style scoped>\n    .dataframe tbody tr th:only-of-type {\n        vertical-align: middle;\n    }\n\n    .dataframe tbody tr th {\n        vertical-align: top;\n    }\n\n    .dataframe thead th {\n        text-align: right;\n    }\n</style>\n<table border=\"1\" class=\"dataframe\">\n  <thead>\n    <tr style=\"text-align: right;\">\n      <th></th>\n      <th>price</th>\n      <th>short_description</th>\n      <th>image_source</th>\n      <th>general_description</th>\n      <th>size</th>\n      <th>material</th>\n      <th>manufacturer_location</th>\n      <th>manufacturer_name</th>\n      <th>manufacturer_address</th>\n      <th>manufacturer_num_workers</th>\n      <th>brand</th>\n    </tr>\n  </thead>\n  <tbody>\n    <tr>\n      <th>10</th>\n      <td>$68</td>\n      <td>Satin ruffle camisole</td>\n      <td>https://aritzia.scene7.com/is/image/Aritzia/me...</td>\n      <td>Satin ruffle camisole HEIRLOOM PINK\\nBLACK\\nAV...</td>\n      <td>3XS\\n2XS\\nXS\\nS\\nM\\nL\\nXL</td>\n      <td>Content: 100% cupro</td>\n      <td>Origin: Fabric from Japan</td>\n      <td>NaN</td>\n      <td>NaN</td>\n      <td>NaN</td>\n      <td>Aritzia</td>\n    </tr>\n    <tr>\n      <th>11</th>\n      <td>$68</td>\n      <td>Satin cowl neck camisole</td>\n      <td>https://aritzia.scene7.com/is/image/Aritzia/me...</td>\n      <td>Satin cowl neck camisole BASALT GREY\\nBLACK\\nA...</td>\n      <td>2XS\\nXS\\nS\\nM\\nL\\nXL</td>\n      <td>Content: 100% cupro</td>\n      <td>Origin: Fabric from Japan</td>\n      <td>NaN</td>\n      <td>NaN</td>\n      <td>NaN</td>\n      <td>Aritzia</td>\n    </tr>\n    <tr>\n      <th>12</th>\n      <td>$68</td>\n      <td>Cropped, tie-front blouse</td>\n      <td>https://aritzia.scene7.com/is/image/Aritzia/me...</td>\n      <td>Cropped, tie-front blouse SOFT BLUSH PINK\\nGIS...</td>\n      <td>2XS\\nXS\\nS\\nM\\nL\\nXL</td>\n      <td>Content: 100% viscose; Lining: 100% polyester</td>\n      <td>NaN</td>\n      <td>NaN</td>\n      <td>NaN</td>\n      <td>NaN</td>\n      <td>Aritzia</td>\n    </tr>\n    <tr>\n      <th>13</th>\n      <td>$78</td>\n      <td>Cropped, tie-front peplum blouse</td>\n      <td>https://aritzia.scene7.com/is/image/Aritzia/me...</td>\n      <td>Cropped, tie-front peplum blouse WHITE/MULTI</td>\n      <td>2XS\\nXS\\nS\\nM\\nL\\nXL</td>\n      <td>Content: 100% viscose</td>\n      <td>NaN</td>\n      <td>NaN</td>\n      <td>NaN</td>\n      <td>NaN</td>\n      <td>Aritzia</td>\n    </tr>\n    <tr>\n      <th>14</th>\n      <td>$78</td>\n      <td>Scalloped collared blouse</td>\n      <td>https://aritzia.scene7.com/is/image/Aritzia/me...</td>\n      <td>Scalloped collared blouse LIGHT BIRCH\\nOXFORD ...</td>\n      <td>2XS\\nXS\\nS\\nM\\nL\\nXL</td>\n      <td>Content: 100% viscose</td>\n      <td>NaN</td>\n      <td>NaN</td>\n      <td>NaN</td>\n      <td>NaN</td>\n      <td>Aritzia</td>\n    </tr>\n  </tbody>\n</table>\n</div>"
     },
     "metadata": {},
     "execution_count": 42
    }
   ],
   "source": [
    "final = pd.concat([HnM, Aritzia])\n",
    "final.tail()"
   ]
  },
  {
   "cell_type": "code",
   "execution_count": 40,
   "metadata": {},
   "outputs": [],
   "source": [
    "final.to_csv(\"./data/store_data.csv\", index=False)"
   ]
  },
  {
   "cell_type": "code",
   "execution_count": null,
   "metadata": {},
   "outputs": [],
   "source": []
  }
 ]
}